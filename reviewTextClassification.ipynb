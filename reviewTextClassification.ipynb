{
 "cells": [
  {
   "cell_type": "code",
   "execution_count": 2,
   "id": "interior-stockholm",
   "metadata": {},
   "outputs": [],
   "source": [
    "import pandas as pd\n",
    "import matplotlib.pyplot as plt\n",
    "import numpy as np\n",
    "from nltk.corpus import stopwords\n",
    "import re\n",
    "from sklearn import shuffle"
   ]
  },
  {
   "cell_type": "code",
   "execution_count": 3,
   "id": "dedicated-scanning",
   "metadata": {},
   "outputs": [],
   "source": [
    "Review_data = pd.read_csv('Fine_Food_Reviews.csv')\n",
    "Review_data = Review_data[['ProductId', 'UserId', 'Score', 'Text']]\n",
    "Review_data = Review_data.rename(columns={\"ProductId\": \"asin\", \"UserId\": \"reviewerID\", \"Score\": \"overall\",\n",
    "                                          \"Text\": \"reviewText\"})\n",
    "Review_data = Review_data.drop_duplicates(subset='reviewText', keep=\"first\")"
   ]
  },
  {
   "cell_type": "code",
   "execution_count": 9,
   "id": "blank-hearing",
   "metadata": {},
   "outputs": [],
   "source": [
    "def ReviewFilter(data, userReviewNumber, productReviewNumber):\n",
    "    print(\"Number of users:\", len(data.groupby('reviewerID').count()))\n",
    "    userID = data.groupby('reviewerID').count()\n",
    "    top_users = userID[userID['overall'] >= userReviewNumber].index\n",
    "    top_users_df = data[data['reviewerID'].isin(top_users)]\n",
    "    top_users_df = top_users_df[['reviewerID', 'asin', 'overall', 'reviewText']]\n",
    "    print(\"Users who have given at least \" + str(userReviewNumber) + \" Reviews:\", len(top_users_df))\n",
    "    productID = data.groupby('asin').count()\n",
    "    print(\"# of products:\", len(productID))\n",
    "    top_products = productID[productID['overall'] >= productReviewNumber].index\n",
    "    top_products_df = top_users_df[top_users_df['asin'].isin(top_products)]\n",
    "    df_filtered = top_products_df[['reviewerID', 'asin', 'overall', 'reviewText']]\n",
    "    df_filtered['pos_neg'] = [1 if x > 3 else 0 for x in df_filtered.overall]\n",
    "    print(df_filtered)\n",
    "    print(\"final DF after filtering and shuffling:\\n\", df_filtered)\n",
    "    return df_filtered"
   ]
  },
  {
   "cell_type": "code",
   "execution_count": 10,
   "id": "informational-reset",
   "metadata": {},
   "outputs": [
    {
     "name": "stdout",
     "output_type": "stream",
     "text": [
      "Number of users: 256044\n",
      "Users who have given at least 20 Reviews: 26284\n",
      "# of products: 67554\n",
      "            reviewerID        asin  overall  \\\n",
      "431     A2OEUROGZDTXUJ  B000G6RYNE        5   \n",
      "433      A22PUBSSNP54L  B000G6RYNE        5   \n",
      "443      AYB4ELCS5AM8P  B000G6RYNE        5   \n",
      "444      A2GOE7ITDGYVE  B000G6RYNE        5   \n",
      "446     A3PZ4AXTY9J1DZ  B000G6RYNE        4   \n",
      "...                ...         ...      ...   \n",
      "567567  A3T0OTH5072YRE  B001BKLHMI        4   \n",
      "567577  A3H7AOFQDPU0JV  B001BKLHMI        5   \n",
      "568249  A17V9XL4CWTQ6G  B00374ZKQ0        1   \n",
      "568261  A2GEZJHBV92EVR  B00374ZKQ0        5   \n",
      "568317  A1ODOGXEYECQQ8  B0013Z0PTW        4   \n",
      "\n",
      "                                               reviewText  pos_neg  \n",
      "431     Now, I haven't done a side-by-side comparison,...        1  \n",
      "433     These chips are thick and crunchy.  I absolute...        1  \n",
      "443     What I like about them:<br />1) Very thick chi...        1  \n",
      "444     These are so tangy it prevents me from eating ...        1  \n",
      "446     I have always been a fan of Kettle chips.  Whe...        1  \n",
      "...                                                   ...      ...  \n",
      "567567  I've discovered that I really like the Kashi G...        1  \n",
      "567577  I have reviewed a lot of these snack bars over...        1  \n",
      "568249  First of all, I have no ties with Truvia. In f...        0  \n",
      "568261  I have tried many of the no sugar sweeteners o...        1  \n",
      "568317  Most health bars taste awful.  Fiber One Grano...        1  \n",
      "\n",
      "[12692 rows x 5 columns]\n",
      "final DF after filtering and shuffling:\n",
      "             reviewerID        asin  overall  \\\n",
      "431     A2OEUROGZDTXUJ  B000G6RYNE        5   \n",
      "433      A22PUBSSNP54L  B000G6RYNE        5   \n",
      "443      AYB4ELCS5AM8P  B000G6RYNE        5   \n",
      "444      A2GOE7ITDGYVE  B000G6RYNE        5   \n",
      "446     A3PZ4AXTY9J1DZ  B000G6RYNE        4   \n",
      "...                ...         ...      ...   \n",
      "567567  A3T0OTH5072YRE  B001BKLHMI        4   \n",
      "567577  A3H7AOFQDPU0JV  B001BKLHMI        5   \n",
      "568249  A17V9XL4CWTQ6G  B00374ZKQ0        1   \n",
      "568261  A2GEZJHBV92EVR  B00374ZKQ0        5   \n",
      "568317  A1ODOGXEYECQQ8  B0013Z0PTW        4   \n",
      "\n",
      "                                               reviewText  pos_neg  \n",
      "431     Now, I haven't done a side-by-side comparison,...        1  \n",
      "433     These chips are thick and crunchy.  I absolute...        1  \n",
      "443     What I like about them:<br />1) Very thick chi...        1  \n",
      "444     These are so tangy it prevents me from eating ...        1  \n",
      "446     I have always been a fan of Kettle chips.  Whe...        1  \n",
      "...                                                   ...      ...  \n",
      "567567  I've discovered that I really like the Kashi G...        1  \n",
      "567577  I have reviewed a lot of these snack bars over...        1  \n",
      "568249  First of all, I have no ties with Truvia. In f...        0  \n",
      "568261  I have tried many of the no sugar sweeteners o...        1  \n",
      "568317  Most health bars taste awful.  Fiber One Grano...        1  \n",
      "\n",
      "[12692 rows x 5 columns]\n"
     ]
    }
   ],
   "source": [
    "filtered_df = ReviewFilter(Review_data, 20, 20)"
   ]
  },
  {
   "cell_type": "markdown",
   "id": "fourth-serum",
   "metadata": {},
   "source": [
    "## Now we'll take fix the review text, starting with stopwords"
   ]
  },
  {
   "cell_type": "code",
   "execution_count": 11,
   "id": "foreign-mining",
   "metadata": {},
   "outputs": [],
   "source": [
    "stop_words = set(stopwords.words('english'))\n",
    "stop_words.remove('the')\n",
    "stop_words.remove('but')\n",
    "stop_words.remove('because')\n",
    "def stopwrd_removal(sent):\n",
    "    lst = []\n",
    "    for wrd in sent.split():\n",
    "        if wrd not in stop_words:\n",
    "            lst.append(wrd)\n",
    "    return \" \".join(lst)"
   ]
  },
  {
   "cell_type": "code",
   "execution_count": 40,
   "id": "certified-cisco",
   "metadata": {},
   "outputs": [
    {
     "name": "stdout",
     "output_type": "stream",
     "text": [
      "before\n",
      "\n",
      " 431    now, done side-by-side comparison, but chips s...\n",
      "433    chips thick crunchy. absolutely love them. the...\n",
      "443    like them: 1) thick chips. 2) trans fat natura...\n",
      "444    tangy prevents eating many, handful two the tr...\n",
      "446    always fan kettle chips. open bag kettle chips...\n",
      "451    ok,i read the reviews ranged splendid awful. t...\n",
      "466    addicted salty tangy flavors, opened first bag...\n",
      "467    honey dijon chips bring terrific balance salty...\n",
      "471    took get used chips but pretty good healthy yo...\n",
      "479    eat many chips, but love. great buy arrived qu...\n",
      "485    husband likes lot. bit different get used less...\n",
      "Name: reviewText, dtype: object\n",
      "\n",
      "After\n",
      " 431    now, done side-by-side comparison, but chips s...\n",
      "433    chips thick crunchy. absolutely love them. the...\n",
      "443    like them: 1) thick chips. 2) trans fat natura...\n",
      "444    tangy prevents eating many, handful two the tr...\n",
      "446    always fan kettle chips. open bag kettle chips...\n",
      "451    ok,i read the reviews ranged splendid awful. t...\n",
      "466    addicted salty tangy flavors, opened first bag...\n",
      "467    honey dijon chips bring terrific balance salty...\n",
      "471    took get used chips but pretty good healthy yo...\n",
      "479    eat many chips, but love. great buy arrived qu...\n",
      "485    husband likes lot. bit different get used less...\n",
      "Name: reviewText, dtype: object\n"
     ]
    }
   ],
   "source": [
    "def textClean(column):\n",
    "    print('before\\n\\n', filtered_df[column][:11])\n",
    "    filtered_df[column] = [re.sub('<.*?>', ' ', i) for i in filtered_df[column].values]\n",
    "    filtered_df[column] = filtered_df[column].str.replace('&lt;', '<') \\\n",
    "        .str.replace('&gt;', '>') \\\n",
    "        .str.replace('&le;', '<=') \\\n",
    "        .str.replace('&ge;', '>=')\n",
    "    \n",
    "    # lowercase\n",
    "    filtered_df[column] = filtered_df[column].str.lower()\n",
    "    # getting rid of non-english characters\n",
    "    filtered_df[column] = [i.encode(\"ascii\", \"ignore\").decode() for i in filtered_df[column].values]\n",
    "    # stopwords removal\n",
    "    filtered_df[column] = [stopwrd_removal(i) for i in filtered_df[column].values]\n",
    "    #   remove white spaces\n",
    "    filtered_df[column] = filtered_df[column].str.replace(\"won't\", \"will not\").str.replace(\"can\\'t\", \"can not\").str.replace(\n",
    "        \"n\\'t\", \" not\").str.replace(\"\\'re\", \" are\").str. \\\n",
    "        replace(\"\\'s\", \" is\").str.replace(\"\\'d\", \" would\").str.replace(\"\\'ll\", \" will\").str. \\\n",
    "        replace(\"\\'t\", \" not\").str.replace(\"\\'ve\", \" have\").str.replace(\"\\'m\", \" am\")\n",
    "    print('\\nAfter\\n', filtered_df[column][:11])\n",
    "    return filtered_df\n",
    "\n",
    "clean_df = textClean('reviewText')"
   ]
  },
  {
   "cell_type": "markdown",
   "id": "diagnostic-pitch",
   "metadata": {},
   "source": [
    "## For this project, we are going to use review text as a feature and a positive/negative rating as the label to get recommendations"
   ]
  },
  {
   "cell_type": "code",
   "execution_count": 23,
   "id": "loaded-missile",
   "metadata": {},
   "outputs": [],
   "source": [
    "from sklearn.linear_model import LogisticRegression\n",
    "from sklearn.feature_extraction.text import CountVectorizer, TfidfVectorizer\n",
    "from sklearn.naive_bayes import MultinomialNB\n",
    "from sklearn.model_selection import train_test_split, cross_val_score, GridSearchCV\n",
    "from sklearn.ensemble import RandomForestClassifier, ExtraTreesClassifier\n",
    "from sklearn.metrics import accuracy_score, precision_score, recall_score, confusion_matrix, f1_score\n",
    "\n",
    "x_train, x_test, y_train, y_test = train_test_split(clean_df['reviewText'], clean_df['pos_neg'],\n",
    "random_state=0, test_size=.2)"
   ]
  },
  {
   "cell_type": "code",
   "execution_count": 18,
   "id": "explicit-neighborhood",
   "metadata": {},
   "outputs": [
    {
     "name": "stdout",
     "output_type": "stream",
     "text": [
      "x_train shape: (10153,)\n",
      "y_train shape: (10153,)\n",
      "\n",
      "x_test shape: (2539,)\n",
      "y_test shape: (2539,)\n",
      "\n"
     ]
    }
   ],
   "source": [
    "print(\"x_train shape: {}\".format(x_train.shape), end='\\n')\n",
    "print(\"y_train shape: {}\".format(y_train.shape), end='\\n\\n')\n",
    "print(\"x_test shape: {}\".format(x_test.shape), end='\\n')\n",
    "print(\"y_test shape: {}\".format(y_test.shape), end='\\n\\n')"
   ]
  },
  {
   "cell_type": "markdown",
   "id": "coordinate-antarctica",
   "metadata": {},
   "source": [
    "We are going to test 5 different models to see which 3 perform the best. Then those models will be fed into a GridSearchCV to increase accuracy even more to find the best algorithm. These are the following algorithms that will be tested:\n",
    "1. Logistic Regression\n",
    "2. Multinomial Bayes\n",
    "3. Random Forest\n",
    "4. Multinomial Bayes (with TFIDF vectorizer)\n",
    "5. Logistic Regression (with TFIDF vectorizer)\n",
    "\n",
    "\n",
    "Let's now set the vectorizers up, define the models, and create a function that will test each model."
   ]
  },
  {
   "cell_type": "code",
   "execution_count": 26,
   "id": "charged-seven",
   "metadata": {},
   "outputs": [],
   "source": [
    "tfidf_vectorizer = TfidfVectorizer(min_df=5).fit(x_train)\n",
    "X_train_tfidf = tfidf_vectorizer.transform(x_train)\n",
    "X_test_tfidf = tfidf_vectorizer.transform(x_test)\n",
    "\n",
    "vectorizer = CountVectorizer(min_df=5).fit(x_train)\n",
    "X_train = vectorizer.transform(x_train)\n",
    "X_test = vectorizer.transform(x_test)\n",
    "feature_names = vectorizer.get_feature_names()\n",
    "\n",
    "#     Models\n",
    "logreg = LogisticRegression(max_iter=5000).fit(X_train, y_train)\n",
    "mnb = MultinomialNB().fit(X_train, y_train)\n",
    "rf = RandomForestClassifier(n_estimators=50, max_depth=None).fit(X_train, y_train.values.ravel())\n",
    "mnb_tfidf = MultinomialNB(alpha=0.01).fit(X_train_tfidf, y_train)\n",
    "logreg_tfidf = LogisticRegression(max_iter=5000).fit(X_train_tfidf, y_train)"
   ]
  },
  {
   "cell_type": "markdown",
   "id": "scientific-winter",
   "metadata": {},
   "source": [
    "## This function will take in a model and the vectorized features then fit them and print out the results"
   ]
  },
  {
   "cell_type": "code",
   "execution_count": 24,
   "id": "great-flexibility",
   "metadata": {},
   "outputs": [],
   "source": [
    "def ModelEvaluation(modelName, model, train_x, test_x):     # add training set score\n",
    "    print(\"\\n\\n\")\n",
    "    pred = model.predict(test_x)\n",
    "    score = accuracy_score(y_test, pred)\n",
    "    print(\"Training Set Accuracy: {:.3f}\".format(model.score(train_x, y_train)))\n",
    "    print(\"Test Set Accuracy \" + modelName + \": {:.3f}\".format(score))\n",
    "    precision = precision_score(y_test, pred)   # low means lots of FP\n",
    "    print(modelName + \" Precision: {:.3f}\".format(precision))\n",
    "    recall = recall_score(y_test, pred) # low means lots of FN\n",
    "    print(modelName + \" Recall: {:.3f}\".format(recall))\n",
    "    f1 = f1_score(y_test, pred)\n",
    "    print(modelName + \" - F1 score: {:.3f}\".format(f1))\n",
    "    cross_v_score = cross_val_score(model, train_x, y_train, cv=5)\n",
    "    print(\"Mean Cross-Validation Accuracy: {:.3f}\".format(np.mean(cross_v_score)))\n",
    "\n",
    "    #   Confusion matrices\n",
    "    cfm = confusion_matrix(y_test, pred)\n",
    "    title = modelName\n",
    "    disp = plot_confusion_matrix(model, test_x, y_test, cmap=plt.cm.Blues)\n",
    "    disp.ax_.set_title(title)\n",
    "    print(title)\n",
    "    print(disp.confusion_matrix)\n",
    "    plt.show()"
   ]
  },
  {
   "cell_type": "code",
   "execution_count": 27,
   "id": "noted-narrative",
   "metadata": {},
   "outputs": [
    {
     "name": "stdout",
     "output_type": "stream",
     "text": [
      "\n",
      "\n",
      "\n",
      "Training Set Accuracy: 0.980\n",
      "Test Set Accuracy Logistic Regression: 0.814\n",
      "Logistic Regression Precision: 0.866\n",
      "Logistic Regression Recall: 0.886\n",
      "Logistic Regression - F1 score: 0.876\n",
      "Mean Cross-Validation Accuracy: 0.810\n",
      "Logistic Regression\n",
      "[[ 408  257]\n",
      " [ 214 1660]]\n"
     ]
    },
    {
     "data": {
      "image/png": "[encoded data removed]",
      "text/plain": [
       "<Figure size 432x288 with 2 Axes>"
      ]
     },
     "metadata": {
      "needs_background": "light"
     },
     "output_type": "display_data"
    },
    {
     "name": "stdout",
     "output_type": "stream",
     "text": [
      "\n",
      "\n",
      "\n",
      "Training Set Accuracy: 0.846\n",
      "Test Set Accuracy Multinomial Bayes: 0.788\n",
      "Multinomial Bayes Precision: 0.884\n",
      "Multinomial Bayes Recall: 0.821\n",
      "Multinomial Bayes - F1 score: 0.851\n",
      "Mean Cross-Validation Accuracy: 0.783\n",
      "Multinomial Bayes\n",
      "[[ 463  202]\n",
      " [ 336 1538]]\n"
     ]
    },
    {
     "data": {
      "image/png": "[encoded data removed]",
      "text/plain": [
       "<Figure size 432x288 with 2 Axes>"
      ]
     },
     "metadata": {
      "needs_background": "light"
     },
     "output_type": "display_data"
    },
    {
     "name": "stdout",
     "output_type": "stream",
     "text": [
      "\n",
      "\n",
      "\n",
      "Training Set Accuracy: 1.000\n",
      "Test Set Accuracy Random Forest: 0.768\n",
      "Random Forest Precision: 0.767\n",
      "Random Forest Recall: 0.983\n",
      "Random Forest - F1 score: 0.862\n",
      "Mean Cross-Validation Accuracy: 0.772\n",
      "Random Forest\n",
      "[[ 107  558]\n",
      " [  32 1842]]\n"
     ]
    },
    {
     "data": {
      "image/png": "[encoded data removed]",
      "text/plain": [
       "<Figure size 432x288 with 2 Axes>"
      ]
     },
     "metadata": {
      "needs_background": "light"
     },
     "output_type": "display_data"
    },
    {
     "name": "stdout",
     "output_type": "stream",
     "text": [
      "\n",
      "\n",
      "\n",
      "Training Set Accuracy: 0.857\n",
      "Test Set Accuracy MNB with TFIDF: 0.789\n",
      "MNB with TFIDF Precision: 0.787\n",
      "MNB with TFIDF Recall: 0.980\n",
      "MNB with TFIDF - F1 score: 0.873\n",
      "Mean Cross-Validation Accuracy: 0.789\n",
      "MNB with TFIDF\n",
      "[[ 167  498]\n",
      " [  38 1836]]\n"
     ]
    },
    {
     "data": {
      "image/png": "[encoded data removed]",
      "text/plain": [
       "<Figure size 432x288 with 2 Axes>"
      ]
     },
     "metadata": {
      "needs_background": "light"
     },
     "output_type": "display_data"
    },
    {
     "name": "stdout",
     "output_type": "stream",
     "text": [
      "\n",
      "\n",
      "\n",
      "Training Set Accuracy: 0.866\n",
      "Test Set Accuracy Logistic Regression With TFIDF: 0.819\n",
      "Logistic Regression With TFIDF Precision: 0.825\n",
      "Logistic Regression With TFIDF Recall: 0.959\n",
      "Logistic Regression With TFIDF - F1 score: 0.887\n",
      "Mean Cross-Validation Accuracy: 0.816\n",
      "Logistic Regression With TFIDF\n",
      "[[ 283  382]\n",
      " [  77 1797]]\n"
     ]
    },
    {
     "data": {
      "image/png": "[encoded data removed]",
      "text/plain": [
       "<Figure size 432x288 with 2 Axes>"
      ]
     },
     "metadata": {
      "needs_background": "light"
     },
     "output_type": "display_data"
    }
   ],
   "source": [
    "ModelEvaluation('Logistic Regression', logreg, X_train, X_test)\n",
    "ModelEvaluation('Multinomial Bayes', mnb, X_train, X_test)\n",
    "ModelEvaluation('Random Forest', rf, X_train, X_test)\n",
    "ModelEvaluation('MNB with TFIDF', mnb_tfidf, X_train_tfidf, X_test_tfidf)\n",
    "ModelEvaluation('Logistic Regression With TFIDF', logreg_tfidf, X_train_tfidf, X_test_tfidf)"
   ]
  },
  {
   "cell_type": "markdown",
   "id": "secret-hostel",
   "metadata": {},
   "source": [
    "## The best models are: Logistic Regression with and without the TFIDF vectorization, and MNB with TFIDF\n",
    "\n",
    "Now, we'll put all of those through GridSearchCV to increase performance"
   ]
  },
  {
   "cell_type": "code",
   "execution_count": 37,
   "id": "present-spokesman",
   "metadata": {},
   "outputs": [],
   "source": [
    "def HyperParamModel(model, params, features, label, cv, test_x):\n",
    "    grid = GridSearchCV(model(), params, cv=cv, n_jobs=-1)\n",
    "    grid.fit(features, label)\n",
    "    print(\"Best Hyperparameters\", grid.best_params_)\n",
    "    print(\"Best Parameter Score\", grid.best_score_)\n",
    "\n",
    "    if model == LogisticRegression:\n",
    "        c = grid.best_params_['C']\n",
    "        max_iter = grid.best_params_['max_iter']\n",
    "        testing_model = model(C=c, max_iter=max_iter)\n",
    "        testing_model.fit(features, label)\n",
    "\n",
    "    else:\n",
    "        alpha = grid.best_params_['alpha']\n",
    "        testing_model = model(alpha=alpha)\n",
    "        testing_model.fit(features, label)\n",
    "\n",
    "    pred = testing_model.predict(test_x)\n",
    "    score = accuracy_score(y_test, pred)\n",
    "    print(\"Test Accuracy\", score)"
   ]
  },
  {
   "cell_type": "code",
   "execution_count": 38,
   "id": "final-vault",
   "metadata": {},
   "outputs": [
    {
     "name": "stdout",
     "output_type": "stream",
     "text": [
      "Best Hyperparameters {'C': 0.2, 'max_iter': 10000}\n",
      "Best Parameter Score 0.8212364507765109\n",
      "Test Accuracy 0.8259157148483655\n",
      "Best Hyperparameters {'C': 1, 'max_iter': 10000}\n",
      "Best Parameter Score 0.8159182426090184\n",
      "Test Accuracy 0.8192201654194565\n",
      "Best Hyperparameters {'alpha': 0.05}\n",
      "Best Parameter Score 0.7903088337662779\n",
      "Test Accuracy 0.7904686884600236\n"
     ]
    }
   ],
   "source": [
    "param_MNB = {'alpha': [0.01, 0.02, 0.05, 0.1]}\n",
    "MNB = MultinomialNB\n",
    "\n",
    "param_logreg = {'C': [0.01, .1, .2, 1], 'max_iter': [10000, 20000, 30000]}\n",
    "LGR = LogisticRegression\n",
    "\n",
    "HyperParamModel(LGR, param_logreg, X_train, y_train, 5, X_test)\n",
    "HyperParamModel(LGR, param_logreg, X_train_tfidf, y_train, 5, X_test_tfidf)\n",
    "HyperParamModel(MNB, param_MNB, X_train_tfidf, y_train, 5, X_test_tfidf)"
   ]
  },
  {
   "cell_type": "markdown",
   "id": "private-argentina",
   "metadata": {},
   "source": [
    "### Logistic Regression without TFIDF wins"
   ]
  }
 ],
 "metadata": {
  "kernelspec": {
   "display_name": "Python 3",
   "language": "python",
   "name": "python3"
  },
  "language_info": {
   "codemirror_mode": {
    "name": "ipython",
    "version": 3
   },
   "file_extension": ".py",
   "mimetype": "text/x-python",
   "name": "python",
   "nbconvert_exporter": "python",
   "pygments_lexer": "ipython3",
   "version": "3.9.0"
  }
 },
 "nbformat": 4,
 "nbformat_minor": 5
}
