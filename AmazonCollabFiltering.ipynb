{
 "cells": [
  {
   "cell_type": "code",
   "execution_count": 4,
   "id": "republican-stocks",
   "metadata": {},
   "outputs": [],
   "source": [
    "import pandas as pd\n",
    "from surprise import SVD, Dataset, accuracy, Reader, KNNWithMeans\n",
    "from surprise.model_selection import train_test_split, GridSearchCV"
   ]
  },
  {
   "cell_type": "markdown",
   "id": "interesting-fashion",
   "metadata": {},
   "source": [
    "# Reading in the data, dropping duplicates, and renaming columns"
   ]
  },
  {
   "cell_type": "code",
   "execution_count": 5,
   "id": "productive-vinyl",
   "metadata": {},
   "outputs": [],
   "source": [
    "Review_data = pd.read_csv('/Users/alechuffman/PycharmProjects/Amazon Product Rec Project/Fine_Food_Reviews.csv')\n",
    "Review_data = Review_data[['ProductId', 'UserId', 'Score', 'Text']]\n",
    "Review_data = Review_data.rename(columns={\"ProductId\": \"asin\", \"UserId\": \"reviewerID\", \"Score\": \"overall\",\n",
    "                                          \"Text\": \"reviewText\"})\n",
    "Review_data = Review_data.drop_duplicates(subset='reviewText', keep=\"first\")"
   ]
  },
  {
   "cell_type": "code",
   "execution_count": 6,
   "id": "intensive-gabriel",
   "metadata": {},
   "outputs": [
    {
     "name": "stdout",
     "output_type": "stream",
     "text": [
      "Number of users: 256044\n",
      "Users who have given at least 20 Reviews: 26284\n",
      "# of products: 67554\n",
      "final DF after filtering and shuffling:\n",
      "             reviewerID        asin  overall  \\\n",
      "431     A2OEUROGZDTXUJ  B000G6RYNE        5   \n",
      "433      A22PUBSSNP54L  B000G6RYNE        5   \n",
      "443      AYB4ELCS5AM8P  B000G6RYNE        5   \n",
      "444      A2GOE7ITDGYVE  B000G6RYNE        5   \n",
      "446     A3PZ4AXTY9J1DZ  B000G6RYNE        4   \n",
      "...                ...         ...      ...   \n",
      "567567  A3T0OTH5072YRE  B001BKLHMI        4   \n",
      "567577  A3H7AOFQDPU0JV  B001BKLHMI        5   \n",
      "568249  A17V9XL4CWTQ6G  B00374ZKQ0        1   \n",
      "568261  A2GEZJHBV92EVR  B00374ZKQ0        5   \n",
      "568317  A1ODOGXEYECQQ8  B0013Z0PTW        4   \n",
      "\n",
      "                                               reviewText  \n",
      "431     Now, I haven't done a side-by-side comparison,...  \n",
      "433     These chips are thick and crunchy.  I absolute...  \n",
      "443     What I like about them:<br />1) Very thick chi...  \n",
      "444     These are so tangy it prevents me from eating ...  \n",
      "446     I have always been a fan of Kettle chips.  Whe...  \n",
      "...                                                   ...  \n",
      "567567  I've discovered that I really like the Kashi G...  \n",
      "567577  I have reviewed a lot of these snack bars over...  \n",
      "568249  First of all, I have no ties with Truvia. In f...  \n",
      "568261  I have tried many of the no sugar sweeteners o...  \n",
      "568317  Most health bars taste awful.  Fiber One Grano...  \n",
      "\n",
      "[12692 rows x 4 columns]\n"
     ]
    }
   ],
   "source": [
    "def ReviewFilter(data, userReviewNumber, productReviewNumber):\n",
    "    print(\"Number of users:\", len(data.groupby('reviewerID').count()))\n",
    "    # taking the subset of users who have given a number of reviews\n",
    "    userID = data.groupby('reviewerID').count()\n",
    "    top_users = userID[userID['overall'] >= userReviewNumber].index\n",
    "    top_users_df = data[data['reviewerID'].isin(top_users)]\n",
    "    top_users_df = top_users_df[['reviewerID', 'asin', 'overall', 'reviewText']]\n",
    "    print(\"Users who have given at least \" + str(userReviewNumber) + \" Reviews:\", len(top_users_df))\n",
    "    # keeping data for products that have a number of reviews\n",
    "    productID = data.groupby('asin').count()\n",
    "    print(\"# of products:\", len(productID))\n",
    "    top_products = productID[productID['overall'] >= productReviewNumber].index\n",
    "    top_products_df = top_users_df[top_users_df['asin'].isin(top_products)]\n",
    "    df_filtered = top_products_df[['reviewerID', 'asin', 'overall', 'reviewText']]\n",
    "    print(\"final DF after filtering and shuffling:\\n\", df_filtered)\n",
    "    return df_filtered\n",
    "\n",
    "df = ReviewFilter(Review_data, 20, 20)"
   ]
  },
  {
   "cell_type": "markdown",
   "id": "straight-picking",
   "metadata": {},
   "source": [
    "Note that the review text contains html tags. For sentiment analysis, this will be fixed"
   ]
  },
  {
   "cell_type": "markdown",
   "id": "opened-offense",
   "metadata": {},
   "source": [
    "# Setting the rating scale and splitting up Train/Test Data"
   ]
  },
  {
   "cell_type": "code",
   "execution_count": 31,
   "id": "existing-programming",
   "metadata": {},
   "outputs": [],
   "source": [
    "reader = Reader(rating_scale=(1.0, 5.0))\n",
    "data = Dataset.load_from_df(df[['reviewerID', 'asin', 'overall']], reader)\n",
    "trainset, testset = train_test_split(data, test_size=.2, random_state=0)"
   ]
  },
  {
   "cell_type": "markdown",
   "id": "seasonal-court",
   "metadata": {},
   "source": [
    "For the collaborative filtering model, we'll test 3 different models: \n",
    "1. User-Based KNN \n",
    "2. Item-Based KNN\n",
    "3. SVD"
   ]
  },
  {
   "cell_type": "code",
   "execution_count": 35,
   "id": "aggregate-retirement",
   "metadata": {},
   "outputs": [
    {
     "name": "stdout",
     "output_type": "stream",
     "text": [
      "Estimating biases using als...\n",
      "Computing the pearson_baseline similarity matrix...\n",
      "Done computing similarity matrix.\n",
      "Estimating biases using als...\n",
      "Computing the pearson_baseline similarity matrix...\n",
      "Done computing similarity matrix.\n",
      "RMSE: 1.0636\n",
      "User-based KNN RMSE is: 1.0635680450801486\n",
      "RMSE: 1.0336\n",
      "SVD RMSE is: 1.033565205126756\n",
      "RMSE: 1.1233\n",
      "Item-based KNN RMSE is: 1.1233141715411559\n"
     ]
    }
   ],
   "source": [
    "knn_user = KNNWithMeans(k=10, min_k=6, sim_options={'name': 'pearson_baseline', 'user_based': True})\n",
    "knn_item = KNNWithMeans(k=10, min_k=6, sim_options={'name': 'pearson_baseline', 'user_based': False})\n",
    "svd_model = SVD(n_epochs=10, lr_all=.1, reg_all=0.1)\n",
    "knn_user.fit(trainset)\n",
    "knn_item.fit(trainset)\n",
    "svd_model.fit(trainset)\n",
    "\n",
    "test_pred_KNN = knn_user.test(testset)\n",
    "test_pred_SVD = svd_model.test(testset)\n",
    "test_pred_KNN_item = knn_item.test(testset)\n",
    "\n",
    "print('User-based KNN RMSE is:', accuracy.rmse(test_pred_KNN))\n",
    "print('SVD RMSE is:', accuracy.rmse(test_pred_SVD))\n",
    "print('Item-based KNN RMSE is:', accuracy.rmse(test_pred_KNN_item))"
   ]
  },
  {
   "cell_type": "markdown",
   "id": "elegant-guitar",
   "metadata": {},
   "source": [
    "# SVD Wins - Let's try SVD through grid search CV to improve the model even more"
   ]
  },
  {
   "cell_type": "code",
   "execution_count": 36,
   "id": "similar-recorder",
   "metadata": {},
   "outputs": [
    {
     "name": "stdout",
     "output_type": "stream",
     "text": [
      "{'rmse': {'n_epochs': 10, 'lr_all': 0.02, 'reg_all': 0.2}}\n",
      "RMSE: 0.7529\n",
      "after tuning SVD model, the RMSE is: 0.7528884368489644\n"
     ]
    }
   ],
   "source": [
    "svd_grid = {'n_epochs': [5, 10, 15, 20], \"lr_all\": [.05, 0.02, .1, .2],\n",
    "              'reg_all': [0.1, 0.2, 0.4]}\n",
    "svd_gs = GridSearchCV(SVD, svd_grid, measures=['rmse'], cv=5, refit=True)\n",
    "svd_gs.fit(data)\n",
    "best_parameters = svd_gs.best_params  # gets best params\n",
    "svd_gs.test(testset)\n",
    "print(best_parameters)\n",
    "print('after tuning SVD model, the RMSE is:', accuracy.rmse(svd_gs.test(testset)))"
   ]
  },
  {
   "cell_type": "markdown",
   "id": "awful-fairy",
   "metadata": {},
   "source": [
    "Sentiment analysis will now be performed on the review text which should be much more accurate"
   ]
  }
 ],
 "metadata": {
  "kernelspec": {
   "display_name": "Python 3",
   "language": "python",
   "name": "python3"
  },
  "language_info": {
   "codemirror_mode": {
    "name": "ipython",
    "version": 3
   },
   "file_extension": ".py",
   "mimetype": "text/x-python",
   "name": "python",
   "nbconvert_exporter": "python",
   "pygments_lexer": "ipython3",
   "version": "3.9.0"
  }
 },
 "nbformat": 4,
 "nbformat_minor": 5
}
